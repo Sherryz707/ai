{
 "cells": [
  {
   "cell_type": "code",
   "execution_count": 1,
   "metadata": {},
   "outputs": [],
   "source": [
    "import pandas as pd\n",
    "import numpy as np\n",
    "import seaborn as sns\n",
    "import matplotlib.pyplot as plt\n",
    "import seaborn as sns\n",
    "\n",
    "df = pd.read_csv('netflix_titles.csv', encoding='latin1')"
   ]
  },
  {
   "cell_type": "code",
   "execution_count": null,
   "metadata": {},
   "outputs": [],
   "source": [
    "df.head()"
   ]
  },
  {
   "cell_type": "code",
   "execution_count": null,
   "metadata": {},
   "outputs": [],
   "source": [
    "df.isna().sum()"
   ]
  },
  {
   "cell_type": "code",
   "execution_count": null,
   "metadata": {},
   "outputs": [],
   "source": [
    "df.drop(df.filter(regex='^Unnamed'),axis=1,inplace=True)\n"
   ]
  },
  {
   "cell_type": "code",
   "execution_count": null,
   "metadata": {},
   "outputs": [],
   "source": [
    "df.isna().sum()"
   ]
  },
  {
   "cell_type": "code",
   "execution_count": null,
   "metadata": {},
   "outputs": [],
   "source": [
    "df['duration'].mode()"
   ]
  },
  {
   "cell_type": "code",
   "execution_count": null,
   "metadata": {},
   "outputs": [],
   "source": [
    "df['director'].fillna('Unknown', inplace=True)\n",
    "df['cast'].fillna('Unknown', inplace=True)\n",
    "df['country'].fillna('Unknown', inplace=True)\n",
    "df['rating'].fillna('Unknown',inplace=True)\n",
    "df['duration'].fillna(df['duration'].mode(),inplace=True)\n",
    "df['date_added'].fillna('1900-01-01', inplace=True)\n"
   ]
  },
  {
   "cell_type": "code",
   "execution_count": null,
   "metadata": {},
   "outputs": [],
   "source": [
    "df.isna().sum()"
   ]
  },
  {
   "cell_type": "code",
   "execution_count": null,
   "metadata": {},
   "outputs": [],
   "source": [
    "df[df['duration'].isna()]"
   ]
  },
  {
   "cell_type": "code",
   "execution_count": null,
   "metadata": {},
   "outputs": [],
   "source": [
    "df['type'].value_counts()"
   ]
  },
  {
   "cell_type": "code",
   "execution_count": null,
   "metadata": {},
   "outputs": [],
   "source": [
    "# Plotting Genres on Pie Chart\n",
    "fig,ax=plt.subplots(figsize=(5,10))\n",
    "wedges=ax.pie(df['type'].value_counts(),labels=set(df['type'].values),autopct='%1.1f%%')\n"
   ]
  },
  {
   "cell_type": "code",
   "execution_count": null,
   "metadata": {},
   "outputs": [],
   "source": [
    "# Who are the most popular movie director\n",
    "movies = df[(df['type']) == 'Movie']\n",
    "movies = movies[movies.country != 'Unknown']\n",
    "df['director']=df['director'].fillna('Unknown')\n",
    "directors=df[df['director']!=\"Unknown\"]['director']\n",
    "topDir=directors.value_counts().nlargest(10).sort_values(ascending=False)\n",
    "topDir.index\n",
    "fig,ax=plt.subplots(1,2,figsize=(15,8))\n",
    "ax[0].set_title(\"The most popular movie directors\")\n",
    "sns.barplot(data=movies,x=topDir.values,y=topDir.index,ax=ax[0])"
   ]
  },
  {
   "cell_type": "code",
   "execution_count": null,
   "metadata": {},
   "outputs": [],
   "source": [
    "df['year_add'] = df['date_added'].apply(lambda x : x.split(',')[-1])\n",
    "\n",
    "\n",
    "plt.figure(figsize=(10,7))\n",
    "plt.title('Release year on Netflix distribution', fontweight='bold')\n",
    "plt.xlabel('Release year')\n",
    "sns.histplot(data=df, x=df['year_add'].sort_values(ascending=False), bins=30, hue='type', palette='rocket')\n",
    "plt.show()"
   ]
  },
  {
   "cell_type": "code",
   "execution_count": null,
   "metadata": {},
   "outputs": [],
   "source": [
    "# Convert date_added to datetimedf['date_added'] = pd.to_datetime(df['date_added'])\n",
    "\n",
    "# Extract year from date_added\n",
    "df['year_added'] = df['date_added'].dt.year\n",
    "\n",
    "# Group by year and type\n",
    "content_trend = df.groupby(['year_added', 'type']).size().reset_index(name=\"count\")\n",
    "\n",
    "# Setting up two plots\n",
    "fig, ax = plt.subplots(1, 2, figsize=(15, 8))\n",
    "\n",
    "# Line plot\n",
    "sns.lineplot(data=content_trend, x='year_added', y='count', hue='type', ax=ax[0])\n",
    "ax[0].set_title('Content Added Over Time')\n",
    "ax[0].set_xlabel('Year')\n",
    "ax[0].set_ylabel('Count')\n",
    "\n",
    "# Bar plot\n",
    "sns.barplot(data=content_trend, x='year_added', y='count', hue='type', ax=ax[1])\n",
    "ax[1].set_title('Content Added Over Time')\n",
    "ax[1].set_xlabel('Year')\n",
    "ax[1].set_ylabel('Count')\n",
    "\n",
    "plt.show()\n"
   ]
  },
  {
   "cell_type": "code",
   "execution_count": null,
   "metadata": {},
   "outputs": [],
   "source": [
    "dfGenre=df['listed_in'].str.split(\",\").explode().str.strip()\n",
    "dfGenre.value_counts().nlargest(10)\n",
    "dfGenre=pd.DataFrame(dfGenre.value_counts().nlargest(10))\n",
    "dfGenre.rename(columns={'listed_in':'count'},inplace=True)\n",
    "dfGenre.reset_index(names=\"genre\",inplace=True)\n",
    "fig=plt.figure()\n",
    "axes=fig.add_axes([0.1,0.1,1,1])\n",
    "# sns.barplot(x='count', y='genre', data=dfGenre, ax=axes)\n",
    "sns.barplot(x='genre', y='count', data=dfGenre, ax=axes)\n",
    "axes.set_title('Genre Count')\n",
    "axes.set_xlabel('Genre')\n",
    "axes.set_ylabel('Count')\n",
    "axes.set_xticklabels(axes.get_xticklabels(), rotation=45, horizontalalignment='right')\n",
    "# plt.tight_layout()"
   ]
  },
  {
   "cell_type": "code",
   "execution_count": null,
   "metadata": {},
   "outputs": [],
   "source": [
    "# Question: Create a heatmap showing the number of movies and TV shows produced by the top 10 countries.\n",
    "# Count the number of titles by country and type\n",
    "country_content = df.groupby(['country', 'type']).size().unstack().fillna(0)\n",
    "# Select top 10 countries with the most titles\n",
    "top_countries = country_content.sum(axis=1).nlargest(10).index\n",
    "country_content_top = country_content.loc[top_countries]\n",
    "\n",
    "# Plotting\n",
    "plt.figure(figsize=(12, 8))\n",
    "sns.heatmap(country_content_top, annot=True, fmt='g', linewidths=.5)\n",
    "plt.title('Number of Movies and TV Shows Produced by Top 10 Countries')\n",
    "plt.xlabel('Type')\n",
    "plt.ylabel('Country')\n",
    "plt.show()\n",
    "\n",
    "country_content_top\n",
    "# country_content['country'].str.strip()"
   ]
  },
  {
   "cell_type": "code",
   "execution_count": null,
   "metadata": {},
   "outputs": [],
   "source": [
    "# Determine if there is a seasonality pattern in the content addition. For example, are more contents added in a particular quarter of the year\n",
    "df['date_added'] = pd.to_datetime(df['date_added'])\n",
    "df['quarter']=df['date_added'].dt.quarter\n",
    "seasonality_trend=df.groupby(['quarter','type']).size().reset_index(name=\"count\")\n",
    "seasonality_trend\n",
    "\n",
    "# Bar plot\n",
    "plt.figure(figsize=(10, 6))\n",
    "sns.barplot(data=seasonality_trend, x='quarter', y='count', hue='type')\n",
    "plt.title('Seasonality Trend by Quarter')\n",
    "plt.xlabel('Quarter')\n",
    "plt.ylabel('Counts')\n",
    "plt.show()\n"
   ]
  },
  {
   "cell_type": "code",
   "execution_count": null,
   "metadata": {},
   "outputs": [],
   "source": [
    "show_dur=df['duration'].str.extract('(\\d+)').astype('float')\n",
    "average_show_duration = np.mean(movie_dur)\n",
    "print('The average duration of a Movie on Netflix is '+str(average_show_duration)+ ' minutes.')\n"
   ]
  },
  {
   "cell_type": "code",
   "execution_count": null,
   "metadata": {},
   "outputs": [],
   "source": [
    "# avg duration of a movie on histplot\n",
    "MovieDur=df[df['type']=='Movie']['duration'].str.extract('(\\d+)').astype('float')\n",
    "plt.figure(figsize=(15,8))\n",
    "sns.histplot(data=MovieDur,kde=True,legend=False)\n",
    "plt.title('Movie duration (minutes)', fontweight='bold')\n",
    "plt.xlabel('Movie duration')\n",
    "\n",
    "plt.show()"
   ]
  },
  {
   "cell_type": "code",
   "execution_count": null,
   "metadata": {},
   "outputs": [],
   "source": [
    "# AVG DURATION OF TV SHOW\n",
    "tvDur=df[df['type']=='TV Show']['duration']\n",
    "tvDur=tvDur.value_counts().sort_values(ascending=True)\n",
    "tvDur\n",
    "plt.figure(figsize=(15,8))\n",
    "sns.barplot(x=tvDur.index,y=tvDur.values)\n",
    "plt.title('TV duration (seasons)', fontweight='bold')\n",
    "plt.xlabel('TV duration')\n",
    "plt.xticks(rotation=45, ha='right')\n",
    "# plt.yscale('log') goes in power of 10\n",
    "plt.ylim(0, 5)  # Zooming in on the first 5 counts\n",
    "\n",
    "plt.show()\n"
   ]
  }
 ],
 "metadata": {
  "kernelspec": {
   "display_name": "Python 3 (ipykernel)",
   "language": "python",
   "name": "python3"
  }
 },
 "nbformat": 4,
 "nbformat_minor": 2
}
